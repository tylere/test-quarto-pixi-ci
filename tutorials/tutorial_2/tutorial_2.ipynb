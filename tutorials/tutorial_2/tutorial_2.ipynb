{
  "cells": [
    {
      "cell_type": "markdown",
      "metadata": {},
      "source": [
        "# \n",
        "\n",
        "> **Tip with Title**\n",
        ">\n",
        "> In order to run the code in this tutorial, you can either download the\n",
        "> notebook to run it on your local computer, or click the button below\n",
        "> to run the tutorial in a GitHub Codespace.\n",
        ">\n",
        "> [![](https://github.com/codespaces/badge.svg)](https://github.com/codespaces/new?hide_repo_select=true&skip_quickstart=true&ref=main&repo=939648830&devcontainer=Tutorial+2&devcontainer_path=.devcontainer%2Ftutorial_2_container%2Fdevcontainer.json&geo=UsWest&machine=basicLinux32gb)"
      ],
      "id": "0a762c5a-a503-4929-8551-d1b8694efb02"
    },
    {
      "cell_type": "code",
      "execution_count": 1,
      "metadata": {},
      "outputs": [
        {
          "output_type": "stream",
          "name": "stdout",
          "text": [
            "sys.version='3.12.0 | packaged by conda-forge | (main, Oct  3 2023, 08:50:24) [GCC 12.3.0]'"
          ]
        }
      ],
      "source": [
        "import sys\n",
        "\n",
        "print(f'{sys.version=}')"
      ],
      "id": "cell-2"
    },
    {
      "cell_type": "code",
      "execution_count": 2,
      "metadata": {},
      "outputs": [
        {
          "output_type": "stream",
          "name": "stdout",
          "text": [
            "Current time: 2025-03-12 03:34:26.087808"
          ]
        }
      ],
      "source": [
        "from datetime import datetime\n",
        "\n",
        "current_time = datetime.now()\n",
        "print(f'Current time: {current_time}')"
      ],
      "id": "cell-3"
    },
    {
      "cell_type": "code",
      "execution_count": 3,
      "metadata": {},
      "outputs": [],
      "source": [
        "import shapely"
      ],
      "id": "cell-4"
    },
    {
      "cell_type": "code",
      "execution_count": 4,
      "metadata": {},
      "outputs": [],
      "source": [
        "import xkcd"
      ],
      "id": "cell-5"
    }
  ],
  "nbformat": 4,
  "nbformat_minor": 5,
  "metadata": {
    "kernelspec": {
      "name": "tutorial-2-kernel",
      "display_name": "Tutorial 2 Kernel",
      "language": "python"
    },
    "language_info": {
      "name": "python",
      "codemirror_mode": {
        "name": "ipython",
        "version": "3"
      },
      "file_extension": ".py",
      "mimetype": "text/x-python",
      "nbconvert_exporter": "python",
      "pygments_lexer": "ipython3",
      "version": "3.12.0"
    }
  }
}