{
  "cells": [
    {
      "cell_type": "markdown",
      "metadata": {},
      "source": [
        "# \n",
        "\n",
        "> **Tip with Title**\n",
        ">\n",
        "> In order to run the code in this tutorial, you can either download the\n",
        "> notebook to run it on your local computer, or click the button below\n",
        "> to run the tutorial in a GitHub Codespace.\n",
        ">\n",
        "> [![](https://github.com/codespaces/badge.svg)](https://github.com/codespaces/new?hide_repo_select=true&skip_quickstart=true&ref=main&repo=939648830&devcontainer=Tutorial+2&devcontainer_path=.devcontainer%2Ftutorial_2_container%2Fdevcontainer.json&geo=UsWest&machine=basicLinux32gb)"
      ],
      "id": "a79a7071-be2a-4f80-bcab-c0c4505fab58"
    },
    {
      "cell_type": "code",
      "execution_count": 5,
      "metadata": {},
      "outputs": [
        {
          "output_type": "stream",
          "name": "stdout",
          "text": [
            "sys.version='3.12.0 | packaged by conda-forge | (main, Oct  3 2023, 08:50:24) [GCC 12.3.0]'"
          ]
        }
      ],
      "source": [
        "import sys\n",
        "\n",
        "print(f'{sys.version=}')"
      ],
      "id": "cell-2"
    },
    {
      "cell_type": "code",
      "execution_count": 6,
      "metadata": {},
      "outputs": [
        {
          "output_type": "stream",
          "name": "stdout",
          "text": [
            "Current time: 2025-03-17 23:34:30.253546"
          ]
        }
      ],
      "source": [
        "from datetime import datetime\n",
        "\n",
        "current_time = datetime.now()\n",
        "print(f'Current time: {current_time}')"
      ],
      "id": "cell-3"
    },
    {
      "cell_type": "code",
      "execution_count": 7,
      "metadata": {},
      "outputs": [],
      "source": [
        "import shapely"
      ],
      "id": "cell-4"
    },
    {
      "cell_type": "code",
      "execution_count": 8,
      "metadata": {},
      "outputs": [],
      "source": [
        "import xkcd"
      ],
      "id": "cell-5"
    }
  ],
  "nbformat": 4,
  "nbformat_minor": 5,
  "metadata": {
    "kernelspec": {
      "name": "tutorial-2-service",
      "display_name": "Tutorial 2",
      "language": "python"
    },
    "language_info": {
      "name": "python",
      "codemirror_mode": {
        "name": "ipython",
        "version": "3"
      },
      "file_extension": ".py",
      "mimetype": "text/x-python",
      "nbconvert_exporter": "python",
      "pygments_lexer": "ipython3",
      "version": "3.12.0"
    }
  }
}