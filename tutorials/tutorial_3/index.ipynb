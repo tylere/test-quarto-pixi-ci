{
 "cells": [
  {
   "cell_type": "markdown",
   "metadata": {},
   "source": [
    "# Test out that R works"
   ]
  },
  {
   "cell_type": "code",
   "execution_count": 1,
   "metadata": {
    "vscode": {
     "languageId": "r"
    }
   },
   "outputs": [
    {
     "name": "stdout",
     "output_type": "stream",
     "text": [
      "  emp_id emp_name salary start_date\n",
      "1      1     Rick 623.30 2012-01-01\n",
      "2      2      Dan 515.20 2013-09-23\n",
      "3      3 Michelle 611.00 2014-11-15\n",
      "4      4     Ryan 729.00 2014-05-11\n",
      "5      5     Gary 843.25 2015-03-27\n"
     ]
    }
   ],
   "source": [
    "emp.data <- data.frame(\n",
    "   emp_id = c (1:5), \n",
    "   emp_name = c(\"Rick\",\"Dan\",\"Michelle\",\"Ryan\",\"Gary\"),\n",
    "   salary = c(623.3,515.2,611.0,729.0,843.25), \n",
    "   \n",
    "   start_date = as.Date(c(\"2012-01-01\", \"2013-09-23\", \"2014-11-15\", \"2014-05-11\",\n",
    "      \"2015-03-27\")),\n",
    "   stringsAsFactors = FALSE\n",
    ")\n",
    "# Print the data frame.\t\t\t\n",
    "print(emp.data) "
   ]
  },
  {
   "cell_type": "code",
   "execution_count": null,
   "metadata": {
    "vscode": {
     "languageId": "r"
    }
   },
   "outputs": [],
   "source": []
  }
 ],
 "metadata": {
  "kernelspec": {
   "display_name": "R",
   "language": "R",
   "name": "ir"
  },
  "language_info": {
   "codemirror_mode": "r",
   "file_extension": ".r",
   "mimetype": "text/x-r-source",
   "name": "R",
   "pygments_lexer": "r",
   "version": "4.4.3"
  }
 },
 "nbformat": 4,
 "nbformat_minor": 2
}
